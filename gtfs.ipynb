{
 "cells": [
  {
   "cell_type": "code",
   "execution_count": 114,
   "metadata": {
    "collapsed": true
   },
   "outputs": [],
   "source": [
    "run irw_gtfs.py"
   ]
  },
  {
   "cell_type": "code",
   "execution_count": 115,
   "metadata": {
    "collapsed": false
   },
   "outputs": [],
   "source": [
    "schedule = load_schedule('data/gtfs/2015_07_15_06_00_02.zip')"
   ]
  },
  {
   "cell_type": "markdown",
   "metadata": {},
   "source": [
    "**Some basic research trying to understand the concept of a service in IRW gtfs**"
   ]
  },
  {
   "cell_type": "code",
   "execution_count": 116,
   "metadata": {
    "collapsed": false
   },
   "outputs": [
    {
     "name": "stdout",
     "output_type": "stream",
     "text": [
      "0\n"
     ]
    }
   ],
   "source": [
    "# are start_date and end_date for all services?\n",
    "multiple_dates = [service for service in schedule.services.values() if service.start_date != service.end_date]\n",
    "print(len(multiple_dates))\n",
    "# result is 0"
   ]
  },
  {
   "cell_type": "code",
   "execution_count": 117,
   "metadata": {
    "collapsed": false
   },
   "outputs": [
    {
     "name": "stdout",
     "output_type": "stream",
     "text": [
      "same arrival and departure 250938 different arrival and depature 16794\n"
     ]
    }
   ],
   "source": [
    "# different arrival and depature times on any stop?\n",
    "diff = 0\n",
    "same = 0\n",
    "for trip in schedule.trips:\n",
    "    l = len([stop for stop in trip.stops if stop.arrival_time != stop.departure_time])\n",
    "    diff += l\n",
    "    same += len(trip.stops) - l\n",
    "print(\"same arrival and departure\", same, \"different arrival and depature\", diff)\n",
    "# same arrival and departure 250938 different arrival and depature 16794"
   ]
  },
  {
   "cell_type": "code",
   "execution_count": 118,
   "metadata": {
    "collapsed": false
   },
   "outputs": [
    {
     "name": "stdout",
     "output_type": "stream",
     "text": [
      "16794\n"
     ]
    },
    {
     "data": {
      "text/plain": [
       "[StopTime(trip_id='010815_07001', arrival_time='23:11:00', departure_time='23:11:00', stop=Stop(stop_id='1600', stop_name='Nahariyya'), stop_sequence='1'),\n",
       " StopTime(trip_id='010815_07001', arrival_time='23:19:00', departure_time='23:19:00', stop=Stop(stop_id='1500', stop_name='Akko'), stop_sequence='2'),\n",
       " StopTime(trip_id='010815_07001', arrival_time='23:29:00', departure_time='23:29:00', stop=Stop(stop_id='800', stop_name='Kiryat Motzkin'), stop_sequence='3'),\n",
       " StopTime(trip_id='010815_07001', arrival_time='23:43:00', departure_time='23:43:00', stop=Stop(stop_id='2100', stop_name='Haifa Center HaShmona'), stop_sequence='4'),\n",
       " StopTime(trip_id='010815_07001', arrival_time='23:52:00', departure_time='23:52:00', stop=Stop(stop_id='2300', stop_name=\"Haifa Hof HaKarmel (Razi'el)\"), stop_sequence='5'),\n",
       " StopTime(trip_id='010815_07001', arrival_time='24:12:00', departure_time='24:12:00', stop=Stop(stop_id='2800', stop_name='Binyamina'), stop_sequence='6'),\n",
       " StopTime(trip_id='010815_07001', arrival_time='24:22:00', departure_time='24:22:00', stop=Stop(stop_id='3100', stop_name='Hadera West'), stop_sequence='7'),\n",
       " StopTime(trip_id='010815_07001', arrival_time='24:32:00', departure_time='24:32:00', stop=Stop(stop_id='3300', stop_name='Natanya'), stop_sequence='8'),\n",
       " StopTime(trip_id='010815_07001', arrival_time='24:45:00', departure_time='24:45:00', stop=Stop(stop_id='3500', stop_name='Herzliyya'), stop_sequence='9'),\n",
       " StopTime(trip_id='010815_07001', arrival_time='24:54:00', departure_time='24:56:00', stop=Stop(stop_id='3700', stop_name='Tel Aviv Center - Savidor'), stop_sequence='10'),\n",
       " StopTime(trip_id='010815_07001', arrival_time='25:10:00', departure_time='25:10:00', stop=Stop(stop_id='8600', stop_name='Ben Gurion Airport'), stop_sequence='11')]"
      ]
     },
     "execution_count": 118,
     "metadata": {},
     "output_type": "execute_result"
    }
   ],
   "source": [
    "trips_with_diff = []\n",
    "for trip in schedule.trips:\n",
    "    diff = [stop for stop in trip.stops if stop.arrival_time != stop.departure_time]\n",
    "    if len(diff) > 0:\n",
    "        trips_with_diff.append(trip)\n",
    "print(len(trips_with_diff))\n",
    "trips_with_diff[0].stops"
   ]
  },
  {
   "cell_type": "code",
   "execution_count": 119,
   "metadata": {
    "collapsed": false
   },
   "outputs": [
    {
     "name": "stdout",
     "output_type": "stream",
     "text": [
      "16794\n",
      "{Stop(stop_id='3700', stop_name='Tel Aviv Center - Savidor')}\n"
     ]
    }
   ],
   "source": [
    "stops_with_diff = []\n",
    "for trip in schedule.trips:\n",
    "    stops_with_diff += [stop for stop in trip.stops if stop.arrival_time != stop.departure_time]\n",
    "print(len(stops_with_diff))\n",
    "print(set(stop.stop for stop in stops_with_diff))\n",
    "# only stops in Tel Aviv Center have difference "
   ]
  },
  {
   "cell_type": "code",
   "execution_count": 120,
   "metadata": {
    "collapsed": false
   },
   "outputs": [
    {
     "name": "stdout",
     "output_type": "stream",
     "text": [
      "Counter({180: 11970, 120: 4824})\n"
     ]
    }
   ],
   "source": [
    "# what's the length of the stop?\n",
    "def parse_time(s):\n",
    "    return int(s[:2]) * 60 * 60 + int(s[3:5]) * 60 + int(s[6:])\n",
    "\n",
    "def time_at_station(stop):\n",
    "    return parse_time(stop.departure_time) - parse_time(stop.arrival_time)\n",
    "\n",
    "from collections import Counter \n",
    "c = Counter()\n",
    "for stop in stops_with_diff:\n",
    "    c[time_at_station(stop)] += 1\n",
    "print(c)\n",
    "# Counter({180: 11970, 120: 4824})"
   ]
  },
  {
   "cell_type": "code",
   "execution_count": 121,
   "metadata": {
    "collapsed": false
   },
   "outputs": [
    {
     "name": "stdout",
     "output_type": "stream",
     "text": [
      "2439\n"
     ]
    },
    {
     "data": {
      "text/plain": [
       "Trip(route=Route(route_id='60', route_long_name='Nahariyya - Ben Gurion Airport'), service=Service(service_id='010815_0000001', day=5, start_date='20150801', end_date='20150801'), trip_id='010815_07018', trip_headsign='Tel Aviv Center - Savidor', direction_id='0', stops=[StopTime(trip_id='010815_07018', arrival_time='20:40:00', departure_time='20:40:00', stop=Stop(stop_id='7320', stop_name=\"Be'er Sheva Center\"), stop_sequence='1'), StopTime(trip_id='010815_07018', arrival_time='20:47:00', departure_time='20:47:00', stop=Stop(stop_id='7300', stop_name=\"Be'er Sheva North University\"), stop_sequence='2'), StopTime(trip_id='010815_07018', arrival_time='20:58:00', departure_time='20:58:00', stop=Stop(stop_id='8550', stop_name='Lehavim - Rahat'), stop_sequence='3'), StopTime(trip_id='010815_07018', arrival_time='21:15:00', departure_time='21:15:00', stop=Stop(stop_id='7000', stop_name='Kiryat Gat'), stop_sequence='4'), StopTime(trip_id='010815_07018', arrival_time='21:40:00', departure_time='21:40:00', stop=Stop(stop_id='5010', stop_name='Ramla'), stop_sequence='5'), StopTime(trip_id='010815_07018', arrival_time='21:45:00', departure_time='21:45:00', stop=Stop(stop_id='5000', stop_name='Lod'), stop_sequence='6'), StopTime(trip_id='010815_07018', arrival_time='21:58:00', departure_time='21:58:00', stop=Stop(stop_id='4900', stop_name='Tel Aviv HaHagana'), stop_sequence='7'), StopTime(trip_id='010815_07018', arrival_time='22:03:00', departure_time='22:03:00', stop=Stop(stop_id='4600', stop_name='Tel Aviv HaShalom'), stop_sequence='8'), StopTime(trip_id='010815_07018', arrival_time='22:07:00', departure_time='22:07:00', stop=Stop(stop_id='3700', stop_name='Tel Aviv Center - Savidor'), stop_sequence='9')])"
      ]
     },
     "execution_count": 121,
     "metadata": {},
     "output_type": "execute_result"
    }
   ],
   "source": [
    "# is time in Tel-Aviv center ever 0? \n",
    "stops_at_tlv_center_with_length_zero = []\n",
    "for trip in schedule.trips:\n",
    "    diff = [stop for stop in trip.stops if  stop.stop.stop_id == '3700' and stop.arrival_time == stop.departure_time]\n",
    "    if len(diff) > 0:\n",
    "        stops_at_tlv_center_with_length_zero.append(trip)\n",
    "print(len(stops_at_tlv_center_with_length_zero))\n",
    "stops_at_tlv_center_with_length_zero[0]\n",
    "# yes that's happens as well in 2439 trips"
   ]
  },
  {
   "cell_type": "code",
   "execution_count": 122,
   "metadata": {
    "collapsed": false
   },
   "outputs": [
    {
     "name": "stdout",
     "output_type": "stream",
     "text": [
      "number of trips 54\n",
      "trip dates ['20150714', '20150715', '20150716', '20150718', '20150719', '20150720', '20150721', '20150722', '20150723', '20150725', '20150726', '20150727', '20150728', '20150729', '20150730', '20150801', '20150802', '20150803', '20150804', '20150805', '20150806', '20150808', '20150809', '20150810', '20150811', '20150812', '20150813', '20150815', '20150816', '20150817', '20150818', '20150819', '20150820', '20150822', '20150823', '20150824', '20150825', '20150826', '20150827', '20150829', '20150830', '20150831', '20150901', '20150902', '20150903', '20150905', '20150906', '20150907', '20150908', '20150909', '20150910', '20150912', '20150913', '20150914']\n"
     ]
    }
   ],
   "source": [
    "# look for same trip in subsequent days? At least Mon-Wed should be rather similar? \n",
    "trip0 = schedule.trips[0]\n",
    "shouldbe_same_service = [trip for trip in schedule.trips if trip.route.route_id == trip0.route.route_id and trip.stops[0].departure_time == trip0.stops[0].departure_time]\n",
    "print(\"number of trips\", len(shouldbe_save_service))\n",
    "print(\"trip dates\", list(sorted(trip.service.start_date for trip in shouldbe_save_service)))\n"
   ]
  },
  {
   "cell_type": "code",
   "execution_count": 123,
   "metadata": {
    "collapsed": false
   },
   "outputs": [
    {
     "name": "stdout",
     "output_type": "stream",
     "text": [
      "54\n"
     ]
    }
   ],
   "source": [
    "# are trip really identical in all stations? \n",
    "def same_stations(trip1, trip2):\n",
    "    for s1, s2 in zip(trip1.stops, trip2.stops):\n",
    "        # StopTime = namedtuple('StopTime', 'trip_id arrival_time departure_time stop stop_sequence')\n",
    "        if s1.arrival_time != s2.arrival_time or s1.departure_time != s2.departure_time or s1.stop.stop_id != s2.stop.stop_id or s1.stop_sequence != s2.stop_sequence:\n",
    "            return False \n",
    "    return True\n",
    "\n",
    "have_same_stops = [trip for trip in shouldbe_same_service if same_stations(trip, trip0)]        \n",
    "print(len(have_same_stops))     \n",
    "# 54. Indeed they are all the same service. "
   ]
  },
  {
   "cell_type": "code",
   "execution_count": 124,
   "metadata": {
    "collapsed": false
   },
   "outputs": [
    {
     "data": {
      "text/plain": [
       "Trip(route=Route(route_id='60', route_long_name='Nahariyya - Ben Gurion Airport'), service=Service(service_id='010815_0000001', day=5, start_date='20150801', end_date='20150801'), trip_id='010815_07001', trip_headsign='Ben Gurion Airport', direction_id='1', stops=[StopTime(trip_id='010815_07001', arrival_time='23:11:00', departure_time='23:11:00', stop=Stop(stop_id='1600', stop_name='Nahariyya'), stop_sequence='1'), StopTime(trip_id='010815_07001', arrival_time='23:19:00', departure_time='23:19:00', stop=Stop(stop_id='1500', stop_name='Akko'), stop_sequence='2'), StopTime(trip_id='010815_07001', arrival_time='23:29:00', departure_time='23:29:00', stop=Stop(stop_id='800', stop_name='Kiryat Motzkin'), stop_sequence='3'), StopTime(trip_id='010815_07001', arrival_time='23:43:00', departure_time='23:43:00', stop=Stop(stop_id='2100', stop_name='Haifa Center HaShmona'), stop_sequence='4'), StopTime(trip_id='010815_07001', arrival_time='23:52:00', departure_time='23:52:00', stop=Stop(stop_id='2300', stop_name=\"Haifa Hof HaKarmel (Razi'el)\"), stop_sequence='5'), StopTime(trip_id='010815_07001', arrival_time='24:12:00', departure_time='24:12:00', stop=Stop(stop_id='2800', stop_name='Binyamina'), stop_sequence='6'), StopTime(trip_id='010815_07001', arrival_time='24:22:00', departure_time='24:22:00', stop=Stop(stop_id='3100', stop_name='Hadera West'), stop_sequence='7'), StopTime(trip_id='010815_07001', arrival_time='24:32:00', departure_time='24:32:00', stop=Stop(stop_id='3300', stop_name='Natanya'), stop_sequence='8'), StopTime(trip_id='010815_07001', arrival_time='24:45:00', departure_time='24:45:00', stop=Stop(stop_id='3500', stop_name='Herzliyya'), stop_sequence='9'), StopTime(trip_id='010815_07001', arrival_time='24:54:00', departure_time='24:56:00', stop=Stop(stop_id='3700', stop_name='Tel Aviv Center - Savidor'), stop_sequence='10'), StopTime(trip_id='010815_07001', arrival_time='25:10:00', departure_time='25:10:00', stop=Stop(stop_id='8600', stop_name='Ben Gurion Airport'), stop_sequence='11')])"
      ]
     },
     "execution_count": 124,
     "metadata": {},
     "output_type": "execute_result"
    }
   ],
   "source": [
    "trip0"
   ]
  },
  {
   "cell_type": "markdown",
   "metadata": {},
   "source": [
    "**conculsion:** IRW just doesn't use service to its full power of normalisation.\n",
    "\n",
    "Instead, service just gives you the date of the trip. "
   ]
  },
  {
   "cell_type": "code",
   "execution_count": 125,
   "metadata": {
    "collapsed": false
   },
   "outputs": [
    {
     "name": "stdout",
     "output_type": "stream",
     "text": [
      "['20150714', '20150715', '20150716', '20150717', '20150718', '20150719', '20150720', '20150721', '20150722', '20150723', '20150724', '20150725', '20150726', '20150727', '20150728', '20150729', '20150730', '20150731', '20150801', '20150802', '20150803', '20150804', '20150805', '20150806', '20150807', '20150808', '20150809', '20150810', '20150811', '20150812', '20150813', '20150814', '20150815', '20150816', '20150817', '20150818', '20150819', '20150820', '20150821', '20150822', '20150823', '20150824', '20150825', '20150826', '20150827', '20150828', '20150829', '20150830', '20150831', '20150901', '20150902', '20150903', '20150904', '20150905', '20150906', '20150907', '20150908', '20150909', '20150910', '20150911', '20150912', '20150913', '20150914']\n"
     ]
    }
   ],
   "source": [
    "# lets see now what dates are convered by this file\n",
    "dates = sorted(set(trip.service.start_date for trip in schedule.trips))\n",
    "print(list(dates))"
   ]
  },
  {
   "cell_type": "markdown",
   "metadata": {},
   "source": [
    "This zip file contains all dates between 20150714 and 20150914 "
   ]
  },
  {
   "cell_type": "code",
   "execution_count": 126,
   "metadata": {
    "collapsed": false
   },
   "outputs": [
    {
     "name": "stdout",
     "output_type": "stream",
     "text": [
      "20150714 384\n",
      "20150715 384\n",
      "20150716 384\n",
      "20150717 217\n",
      "20150718 37\n",
      "20150719 387\n",
      "20150720 384\n",
      "20150721 384\n",
      "20150722 384\n",
      "20150723 384\n",
      "20150724 217\n",
      "20150725 37\n",
      "20150726 387\n",
      "20150727 384\n",
      "20150728 384\n",
      "20150729 384\n",
      "20150730 384\n",
      "20150731 217\n",
      "20150801 37\n",
      "20150802 387\n",
      "20150803 384\n",
      "20150804 384\n",
      "20150805 384\n",
      "20150806 384\n",
      "20150807 217\n",
      "20150808 37\n",
      "20150809 387\n",
      "20150810 384\n",
      "20150811 384\n",
      "20150812 384\n",
      "20150813 384\n",
      "20150814 217\n",
      "20150815 37\n",
      "20150816 387\n",
      "20150817 384\n",
      "20150818 384\n",
      "20150819 384\n",
      "20150820 384\n",
      "20150821 217\n",
      "20150822 37\n",
      "20150823 387\n",
      "20150824 384\n",
      "20150825 384\n",
      "20150826 384\n",
      "20150827 384\n",
      "20150828 217\n",
      "20150829 37\n",
      "20150830 387\n",
      "20150831 384\n",
      "20150901 384\n",
      "20150902 384\n",
      "20150903 384\n",
      "20150904 217\n",
      "20150905 37\n",
      "20150906 387\n",
      "20150907 384\n",
      "20150908 384\n",
      "20150909 384\n",
      "20150910 384\n",
      "20150911 217\n",
      "20150912 37\n",
      "20150913 387\n",
      "20150914 384\n"
     ]
    }
   ],
   "source": [
    "# group_by is defined in irw_gtfs\n",
    "def group_by_date(schedule):\n",
    "    return group_by(schedule.trips, lambda trip: trip.service.start_date)\n",
    "\n",
    "grouped_by_date = group_by_date(schedule)\n",
    "for date in sorted(grouped_by_date.keys()):\n",
    "    print(date, len(grouped_by_date[date]))\n",
    "\n"
   ]
  },
  {
   "cell_type": "markdown",
   "metadata": {},
   "source": [
    "There's regularly 387 trains on Sunday, 384 Mon-Thur, 217 Fri and 37 Saturday\n",
    "\n",
    "For every date in this gtfs, all trains are included.\n",
    "\n",
    "Next question, do files always agree on overlapping days?"
   ]
  },
  {
   "cell_type": "code",
   "execution_count": 81,
   "metadata": {
    "collapsed": true
   },
   "outputs": [],
   "source": [
    "def agree(schedule1, schedule2):\n",
    "    by_trip_id1 = {trip.trip_id: trip for trip in schedule1.trips}\n",
    "    by_trip_id2 = {trip.trip_id: trip for trip in schedule2.trips}\n",
    "    common_trips = set(by_trip_id1.keys()).intersection(by_trip_id2.keys())\n",
    "    print(len(common_trips), len(common_trips)/len(schedule1.trips), len(common_trips)/len(schedule2.trips))\n",
    "    for trip_id in common_trips:\n",
    "        if by_trip_id1[trip_id] != by_trip_id2[trip_id]:\n",
    "            return False\n",
    "    return True"
   ]
  },
  {
   "cell_type": "code",
   "execution_count": 93,
   "metadata": {
    "collapsed": false,
    "scrolled": false
   },
   "outputs": [
    {
     "name": "stdout",
     "output_type": "stream",
     "text": [
      "19593 1.0 1.0\n",
      "2015_07_15_06_00_02.zip True\n",
      "19209 0.9804011636809065 0.9804011636809065\n",
      "2015_07_14_06_00_02.zip True\n",
      "19162 0.9780023477772674 0.9780023477772674\n",
      "2015_07_13_06_00_02.zip True\n",
      "19556 0.9981115704588374 0.9981115704588374\n",
      "2015_07_12_06_00_03.zip True\n",
      "19376 0.9889246159342623 1.0\n",
      "2015_07_11_06_00_02.zip True\n",
      "18992 0.9801816680429397 0.9693257796151686\n",
      "2015_07_10_06_00_02.zip True\n",
      "19209 0.9804011636809065 0.9804011636809065\n",
      "2015_07_09_06_00_02.zip True\n",
      "19209 0.9804011636809065 0.9804011636809065\n",
      "2015_07_08_06_00_02.zip True\n",
      "19209 0.9804011636809065 0.9804011636809065\n",
      "2015_07_07_06_00_02.zip True\n",
      "19206 0.9802480477721636 0.9802480477721636\n",
      "2015_07_06_06_00_02.zip True\n",
      "19556 0.9981115704588374 0.9981115704588374\n",
      "2015_07_05_06_00_02.zip True\n",
      "19376 0.9889246159342623 0.9889246159342623\n",
      "2015_07_04_06_00_01.zip True\n",
      "19209 0.9804011636809065 0.9803511278962947\n",
      "2015_07_03_06_00_02.zip True\n",
      "19210 0.9804021639277329 0.9803021024698918\n",
      "2015_07_02_06_00_01.zip True\n",
      "18827 0.9607572974076342 0.9800114517724221\n",
      "2015_07_01_06_00_01.zip True\n",
      "18824 0.9798552912393941 0.9800083298625573\n",
      "2015_06_30_06_00_02.zip True\n",
      "19171 0.9980737192836319 0.9802127006851417\n",
      "2015_06_29_06_00_02.zip True\n",
      "19341 0.9889047959914101 0.9980906182268552\n",
      "2015_06_28_06_00_02.zip True\n",
      "18994 0.9801837134895242 0.9884985688264377\n",
      "2015_06_27_06_00_02.zip True\n",
      "18831 0.980015612802498 0.9799646128226478\n",
      "2015_06_26_06_00_02.zip True\n",
      "18832 0.9800166527893422 0.9800166527893422\n",
      "2015_06_25_06_00_02.zip True\n",
      "18832 0.9800166527893422 0.9800166527893422\n",
      "2015_06_24_06_00_02.zip True\n",
      "18829 0.979860532889259 0.9800135325040338\n",
      "2015_06_23_06_00_02.zip True\n",
      "19176 0.9980742205798158 0.9802177580125747\n",
      "2015_06_22_06_00_02.zip True\n",
      "19339 0.9885498134232991 0.998090421139554\n",
      "2015_06_21_06_00_02.zip False\n",
      "18992 0.9801816680429397 0.9887032120360247\n",
      "2015_06_20_06_00_02.zip True\n",
      "18825 0.9800093706075277 0.9800093706075277\n",
      "2015_06_19_06_00_02.zip True\n",
      "18825 0.9800093706075277 0.9800093706075277\n",
      "2015_06_18_06_00_02.zip True\n",
      "18825 0.9800093706075277 0.9800093706075277\n",
      "2015_06_17_06_00_02.zip True\n",
      "18822 0.979853193815399 0.9800062480474852\n",
      "2015_06_16_06_00_02.zip True\n",
      "19169 0.9980735186920754 0.9802106770300675\n",
      "2015_06_15_06_00_02.zip True\n",
      "19339 0.9889036612804254 0.998090421139554\n",
      "2015_06_14_06_00_02.zip True\n",
      "18992 0.9801816680429397 0.9887032120360247\n",
      "2015_06_13_06_00_02.zip True\n",
      "18825 0.9800093706075277 0.9800093706075277\n",
      "2015_06_12_06_00_02.zip True\n",
      "18825 0.9800093706075277 0.9800093706075277\n",
      "2015_06_11_06_00_02.zip True\n",
      "18825 0.9800093706075277 0.9800093706075277\n",
      "2015_06_10_06_00_01.zip True\n",
      "18822 0.979853193815399 0.9800062480474852\n",
      "2015_06_09_06_00_02.zip True\n",
      "19169 0.9980735186920754 0.9802106770300675\n",
      "2015_06_08_06_00_01.zip True\n",
      "18571 0.9496318265493966 0.9667864022072986\n",
      "2015_06_05_06_00_02.zip True\n",
      "18825 0.9800093706075277 0.9800093706075277\n",
      "2015_06_04_06_00_01.zip True\n",
      "18825 0.9800093706075277 0.9800093706075277\n",
      "2015_06_03_06_00_01.zip True\n",
      "18822 0.979853193815399 0.9800062480474852\n",
      "2015_06_02_06_00_02.zip True\n",
      "19169 0.9980735186920754 0.9802106770300675\n",
      "2015_06_01_06_00_02.zip False\n",
      "19339 0.9889036612804254 0.998141935483871\n",
      "2015_05_31_06_00_02.zip True\n",
      "18991 0.9801806451612903 0.9887026239067055\n",
      "2015_05_30_06_00_02.zip True\n",
      "18824 0.9800083298625573 0.9799573116768182\n",
      "2015_05_29_06_00_02.zip True\n",
      "18825 0.9800093706075277 0.9800093706075277\n",
      "2015_05_28_06_00_02.zip True\n",
      "18817 0.9795928991618512 0.980001041612416\n",
      "2015_05_27_06_00_02.zip True\n",
      "18814 0.979844799750013 0.976741771363306\n",
      "2015_05_26_06_00_02.zip True\n",
      "19225 0.9980791195099159 0.9979754983388704\n",
      "2015_05_25_06_00_02.zip False\n",
      "19047 0.9887354651162791 1.0\n",
      "2015_05_24_06_00_02.zip True\n",
      "18663 0.9798393447787053 0.9885063559322034\n",
      "2015_05_23_06_00_02.zip True\n",
      "18496 0.9796610169491525 0.9763513513513513\n",
      "2015_05_22_06_00_02.zip True\n",
      "18544 0.9788851351351351 0.9743589743589743\n",
      "2015_05_21_06_00_01.zip False\n",
      "18645 0.9796658259773013 0.9765870521684475\n",
      "2015_05_20_06_00_02.zip True\n",
      "18701 0.9795202178923109 0.9766555253812409\n",
      "2015_05_19_06_00_02.zip True\n",
      "19109 0.9979632337580948 0.9771425649417058\n",
      "2015_05_18_06_00_01.zip True\n",
      "19339 0.9889036612804254 0.9979874084012798\n",
      "2015_05_17_06_00_01.zip True\n",
      "18994 0.9801837134895242 0.988704388110978\n",
      "2015_05_16_06_00_01.zip True\n",
      "18827 0.9800114517724221 0.976808135311819\n",
      "2015_05_15_06_00_02.zip True\n",
      "18890 0.9800767873819654 0.9768836944717382\n",
      "2015_05_14_06_00_01.zip True\n",
      "18949 0.9799348399441485 0.9769540111363167\n",
      "2015_05_13_06_00_02.zip False\n",
      "19009 0.9800474324603011 0.9770250822368421\n",
      "2015_05_12_06_00_02.zip True\n",
      "18798 0.9661800986842105 0.9544069861900893\n",
      "2015_05_08_06_00_01.zip False\n",
      "17093 0.8678411860276198 0.8331546110352895\n",
      "2015_05_01_06_00_02.zip True\n",
      "20128 0.9810879313706375 0.9782746051032807\n",
      "2015_04_29_06_00_02.zip True\n",
      "17625 0.8566221142162819 0.8514492753623188\n",
      "2015_04_20_06_00_02.zip False\n",
      "20700 1.0 0.6802944656237676\n",
      "2015_04_14_06_00_02.zip False\n",
      "26190 0.8607203891152886 0.8601267693520313\n",
      "2015_04_02_06_00_02.zip False\n",
      "30449 1.0 0.7489239245394397\n",
      "2015_04_01_06_00_02.zip True\n",
      "19908 0.4896573775733576 0.9454787234042553\n",
      "2015_03_27_06_00_02.zip False\n",
      "18539 0.8804616261398176 0.8633230883859551\n",
      "2015_03_20_06_00_02.zip True\n",
      "20769 0.9671696004470522 0.9467566212335324\n",
      "2015_03_19_06_00_01.zip True\n",
      "18971 0.8647946391940557 0.8761777203029744\n",
      "2015_03_11_06_00_02.zip True\n",
      "21391 0.9879456863107334 0.5038748733893953\n",
      "2015_02_24_07_00_02.zip False\n",
      "42234 0.9948413539679175 0.8003562697796055\n",
      "2015_02_12_07_00_02.zip False\n"
     ]
    },
    {
     "ename": "BadZipFile",
     "evalue": "File is not a zip file",
     "output_type": "error",
     "traceback": [
      "\u001b[1;31m---------------------------------------------------------------------------\u001b[0m",
      "\u001b[1;31mBadZipFile\u001b[0m                                Traceback (most recent call last)",
      "\u001b[1;32m<ipython-input-93-878acf10005b>\u001b[0m in \u001b[0;36m<module>\u001b[1;34m()\u001b[0m\n\u001b[0;32m      2\u001b[0m \u001b[0ms1\u001b[0m \u001b[1;33m=\u001b[0m \u001b[0mschedule\u001b[0m\u001b[1;33m\u001b[0m\u001b[0m\n\u001b[0;32m      3\u001b[0m \u001b[1;32mfor\u001b[0m \u001b[0mf\u001b[0m \u001b[1;32min\u001b[0m \u001b[0mreversed\u001b[0m\u001b[1;33m(\u001b[0m\u001b[0msorted\u001b[0m\u001b[1;33m(\u001b[0m\u001b[1;33m[\u001b[0m\u001b[0mf\u001b[0m \u001b[1;32mfor\u001b[0m \u001b[0mf\u001b[0m \u001b[1;32min\u001b[0m \u001b[0mos\u001b[0m\u001b[1;33m.\u001b[0m\u001b[0mlistdir\u001b[0m\u001b[1;33m(\u001b[0m\u001b[1;34m\"data/gtfs\"\u001b[0m\u001b[1;33m)\u001b[0m \u001b[1;32mif\u001b[0m \u001b[0mf\u001b[0m\u001b[1;33m.\u001b[0m\u001b[0mendswith\u001b[0m\u001b[1;33m(\u001b[0m\u001b[1;34m'.zip'\u001b[0m\u001b[1;33m)\u001b[0m\u001b[1;33m]\u001b[0m\u001b[1;33m)\u001b[0m\u001b[1;33m)\u001b[0m\u001b[1;33m:\u001b[0m\u001b[1;33m\u001b[0m\u001b[0m\n\u001b[1;32m----> 4\u001b[1;33m     \u001b[0ms2\u001b[0m \u001b[1;33m=\u001b[0m \u001b[0mload\u001b[0m\u001b[1;33m(\u001b[0m\u001b[0mos\u001b[0m\u001b[1;33m.\u001b[0m\u001b[0mpath\u001b[0m\u001b[1;33m.\u001b[0m\u001b[0mjoin\u001b[0m\u001b[1;33m(\u001b[0m\u001b[1;34m'data/gtfs'\u001b[0m\u001b[1;33m,\u001b[0m \u001b[0mf\u001b[0m\u001b[1;33m)\u001b[0m\u001b[1;33m)\u001b[0m\u001b[1;33m\u001b[0m\u001b[0m\n\u001b[0m\u001b[0;32m      5\u001b[0m     \u001b[0mprint\u001b[0m\u001b[1;33m(\u001b[0m\u001b[0mf\u001b[0m\u001b[1;33m,\u001b[0m \u001b[0magree\u001b[0m\u001b[1;33m(\u001b[0m\u001b[0ms1\u001b[0m\u001b[1;33m,\u001b[0m \u001b[0ms2\u001b[0m\u001b[1;33m)\u001b[0m\u001b[1;33m)\u001b[0m\u001b[1;33m\u001b[0m\u001b[0m\n\u001b[0;32m      6\u001b[0m     \u001b[0ms1\u001b[0m \u001b[1;33m=\u001b[0m \u001b[0ms2\u001b[0m\u001b[1;33m\u001b[0m\u001b[0m\n",
      "\u001b[1;32mC:\\data\\dev\\otrain\\gtfs.py\u001b[0m in \u001b[0;36mload\u001b[1;34m(zip_name)\u001b[0m\n\u001b[0;32m     39\u001b[0m         \u001b[1;32mreturn\u001b[0m \u001b[0mTrip\u001b[0m\u001b[1;33m(\u001b[0m\u001b[0mroute\u001b[0m\u001b[1;33m,\u001b[0m \u001b[0mservice\u001b[0m\u001b[1;33m,\u001b[0m \u001b[0mr\u001b[0m\u001b[1;33m[\u001b[0m\u001b[1;34m'trip_id'\u001b[0m\u001b[1;33m]\u001b[0m\u001b[1;33m,\u001b[0m \u001b[0mr\u001b[0m\u001b[1;33m[\u001b[0m\u001b[1;34m'trip_headsign'\u001b[0m\u001b[1;33m]\u001b[0m\u001b[1;33m,\u001b[0m \u001b[0mr\u001b[0m\u001b[1;33m[\u001b[0m\u001b[1;34m'direction_id'\u001b[0m\u001b[1;33m]\u001b[0m\u001b[1;33m,\u001b[0m \u001b[0mstops\u001b[0m\u001b[1;33m)\u001b[0m\u001b[1;33m\u001b[0m\u001b[0m\n\u001b[0;32m     40\u001b[0m \u001b[1;33m\u001b[0m\u001b[0m\n\u001b[1;32m---> 41\u001b[1;33m     \u001b[1;32mwith\u001b[0m \u001b[0mZipFile\u001b[0m\u001b[1;33m(\u001b[0m\u001b[0mzip_name\u001b[0m\u001b[1;33m)\u001b[0m \u001b[1;32mas\u001b[0m \u001b[0mz\u001b[0m\u001b[1;33m:\u001b[0m\u001b[1;33m\u001b[0m\u001b[0m\n\u001b[0m\u001b[0;32m     42\u001b[0m         \u001b[1;32mwith\u001b[0m \u001b[0mz\u001b[0m\u001b[1;33m.\u001b[0m\u001b[0mopen\u001b[0m\u001b[1;33m(\u001b[0m\u001b[1;34m'routes.txt'\u001b[0m\u001b[1;33m)\u001b[0m \u001b[1;32mas\u001b[0m \u001b[0mroutes_file\u001b[0m\u001b[1;33m:\u001b[0m\u001b[1;33m\u001b[0m\u001b[0m\n\u001b[0;32m     43\u001b[0m             \u001b[0mreader\u001b[0m \u001b[1;33m=\u001b[0m \u001b[0mDictReader\u001b[0m\u001b[1;33m(\u001b[0m\u001b[0mTextIOWrapper\u001b[0m\u001b[1;33m(\u001b[0m\u001b[0mroutes_file\u001b[0m\u001b[1;33m,\u001b[0m \u001b[1;34m'utf-8-sig'\u001b[0m\u001b[1;33m)\u001b[0m\u001b[1;33m)\u001b[0m\u001b[1;33m\u001b[0m\u001b[0m\n",
      "\u001b[1;32mC:\\Anaconda3\\lib\\zipfile.py\u001b[0m in \u001b[0;36m__init__\u001b[1;34m(self, file, mode, compression, allowZip64)\u001b[0m\n\u001b[0;32m   1021\u001b[0m         \u001b[1;32mtry\u001b[0m\u001b[1;33m:\u001b[0m\u001b[1;33m\u001b[0m\u001b[0m\n\u001b[0;32m   1022\u001b[0m             \u001b[1;32mif\u001b[0m \u001b[0mmode\u001b[0m \u001b[1;33m==\u001b[0m \u001b[1;34m'r'\u001b[0m\u001b[1;33m:\u001b[0m\u001b[1;33m\u001b[0m\u001b[0m\n\u001b[1;32m-> 1023\u001b[1;33m                 \u001b[0mself\u001b[0m\u001b[1;33m.\u001b[0m\u001b[0m_RealGetContents\u001b[0m\u001b[1;33m(\u001b[0m\u001b[1;33m)\u001b[0m\u001b[1;33m\u001b[0m\u001b[0m\n\u001b[0m\u001b[0;32m   1024\u001b[0m             \u001b[1;32melif\u001b[0m \u001b[0mmode\u001b[0m \u001b[1;32min\u001b[0m \u001b[1;33m(\u001b[0m\u001b[1;34m'w'\u001b[0m\u001b[1;33m,\u001b[0m \u001b[1;34m'x'\u001b[0m\u001b[1;33m)\u001b[0m\u001b[1;33m:\u001b[0m\u001b[1;33m\u001b[0m\u001b[0m\n\u001b[0;32m   1025\u001b[0m                 \u001b[1;31m# set the modified flag so central directory gets written\u001b[0m\u001b[1;33m\u001b[0m\u001b[1;33m\u001b[0m\u001b[0m\n",
      "\u001b[1;32mC:\\Anaconda3\\lib\\zipfile.py\u001b[0m in \u001b[0;36m_RealGetContents\u001b[1;34m(self)\u001b[0m\n\u001b[0;32m   1088\u001b[0m             \u001b[1;32mraise\u001b[0m \u001b[0mBadZipFile\u001b[0m\u001b[1;33m(\u001b[0m\u001b[1;34m\"File is not a zip file\"\u001b[0m\u001b[1;33m)\u001b[0m\u001b[1;33m\u001b[0m\u001b[0m\n\u001b[0;32m   1089\u001b[0m         \u001b[1;32mif\u001b[0m \u001b[1;32mnot\u001b[0m \u001b[0mendrec\u001b[0m\u001b[1;33m:\u001b[0m\u001b[1;33m\u001b[0m\u001b[0m\n\u001b[1;32m-> 1090\u001b[1;33m             \u001b[1;32mraise\u001b[0m \u001b[0mBadZipFile\u001b[0m\u001b[1;33m(\u001b[0m\u001b[1;34m\"File is not a zip file\"\u001b[0m\u001b[1;33m)\u001b[0m\u001b[1;33m\u001b[0m\u001b[0m\n\u001b[0m\u001b[0;32m   1091\u001b[0m         \u001b[1;32mif\u001b[0m \u001b[0mself\u001b[0m\u001b[1;33m.\u001b[0m\u001b[0mdebug\u001b[0m \u001b[1;33m>\u001b[0m \u001b[1;36m1\u001b[0m\u001b[1;33m:\u001b[0m\u001b[1;33m\u001b[0m\u001b[0m\n\u001b[0;32m   1092\u001b[0m             \u001b[0mprint\u001b[0m\u001b[1;33m(\u001b[0m\u001b[0mendrec\u001b[0m\u001b[1;33m)\u001b[0m\u001b[1;33m\u001b[0m\u001b[0m\n",
      "\u001b[1;31mBadZipFile\u001b[0m: File is not a zip file"
     ]
    }
   ],
   "source": [
    "import os\n",
    "s1 = schedule\n",
    "for f in reversed(sorted([f for f in os.listdir(\"data/gtfs\") if f.endswith('.zip')])):\n",
    "    s2 = load(os.path.join('data/gtfs', f))\n",
    "    print(f, agree(s1, s2))\n",
    "    s1 = s2"
   ]
  },
  {
   "cell_type": "code",
   "execution_count": 97,
   "metadata": {
    "collapsed": false
   },
   "outputs": [],
   "source": [
    "# find an example of a difference? \n",
    "def disagree_on(schedule1, schedule2):\n",
    "    by_trip_id1 = {trip.trip_id: trip for trip in schedule1.trips}\n",
    "    by_trip_id2 = {trip.trip_id: trip for trip in schedule2.trips}\n",
    "    common_trips = set(by_trip_id1.keys()).intersection(by_trip_id2.keys())\n",
    "    for trip_id in common_trips:\n",
    "        if by_trip_id1[trip_id] != by_trip_id2[trip_id]:\n",
    "            return (by_trip_id1[trip_id] , by_trip_id2[trip_id])\n",
    "\n",
    "diff = disagree_on(load('data/gtfs/2015_06_21_06_00_02.zip'), load('data/gtfs/2015_06_22_06_00_02.zip'))"
   ]
  },
  {
   "cell_type": "code",
   "execution_count": 112,
   "metadata": {
    "collapsed": false
   },
   "outputs": [
    {
     "name": "stdout",
     "output_type": "stream",
     "text": [
      "StopTime(trip_id='010715_00053', arrival_time='23:07:00', departure_time='23:07:00', stop=Stop(stop_id='3700', stop_name='Tel Aviv Center - Savidor'), stop_sequence='1') StopTime(trip_id='010715_00053', arrival_time='23:03:00', departure_time='23:03:00', stop=Stop(stop_id='3600', stop_name='Tel Aviv - University'), stop_sequence='1')\n"
     ]
    }
   ],
   "source": [
    "# where is the difference?\n",
    "# route service trip_id trip_headsign direction_id stops\n",
    "print(diff[0].stops[0], diff[1].stops[0])"
   ]
  },
  {
   "cell_type": "markdown",
   "metadata": {},
   "source": [
    "It appears that on June 22 it was decided that this train, instead of leaving at 23:07 from Tel-Aviv Center, will leave at 23:03 from Tel-Aviv Univerisity **and not stop in Tel-Aviv Center** \n",
    "\n",
    "This change have persisted to the next gtfs version."
   ]
  },
  {
   "cell_type": "code",
   "execution_count": 113,
   "metadata": {
    "collapsed": false
   },
   "outputs": [
    {
     "data": {
      "text/plain": [
       "{1: 3}"
      ]
     },
     "execution_count": 113,
     "metadata": {},
     "output_type": "execute_result"
    }
   ],
   "source": [
    "a = {1: 2}\n",
    "b = {1: 3}\n",
    "a.update(b)\n",
    "a"
   ]
  },
  {
   "cell_type": "code",
   "execution_count": null,
   "metadata": {
    "collapsed": true
   },
   "outputs": [],
   "source": []
  }
 ],
 "metadata": {
  "kernelspec": {
   "display_name": "Python 3",
   "language": "python",
   "name": "python3"
  },
  "language_info": {
   "codemirror_mode": {
    "name": "ipython",
    "version": 3
   },
   "file_extension": ".py",
   "mimetype": "text/x-python",
   "name": "python",
   "nbconvert_exporter": "python",
   "pygments_lexer": "ipython3",
   "version": "3.5.0"
  }
 },
 "nbformat": 4,
 "nbformat_minor": 0
}
